{
 "cells": [
  {
   "cell_type": "code",
   "execution_count": 1,
   "id": "4aa6736f-49cb-4c06-9b15-63963472a065",
   "metadata": {},
   "outputs": [
    {
     "name": "stderr",
     "output_type": "stream",
     "text": [
      "2021-09-29 06:24:36.682035: I tensorflow/stream_executor/platform/default/dso_loader.cc:53] Successfully opened dynamic library libcudart.so.11.0\n"
     ]
    }
   ],
   "source": [
    "import os\n",
    "import torch\n",
    "import sklearn\n",
    "import numpy as np\n",
    "import pandas as pd\n",
    "import pickle as pickle\n",
    "from sklearn.metrics import accuracy_score, recall_score, precision_score, f1_score\n",
    "from transformers import (AutoTokenizer, \n",
    "                          AutoConfig, \n",
    "                          AutoModelForSequenceClassification, \n",
    "                          Trainer, \n",
    "                          TrainingArguments, \n",
    "                          RobertaConfig, \n",
    "                          RobertaTokenizer, \n",
    "                          RobertaForSequenceClassification, \n",
    "                          BertTokenizer)"
   ]
  },
  {
   "cell_type": "code",
   "execution_count": 2,
   "id": "ab796fb7-59af-4da8-befa-8f2d071e8568",
   "metadata": {},
   "outputs": [],
   "source": [
    "import sys\n",
    "import re\n",
    "import random\n",
    "import collections\n",
    "import matplotlib.pyplot as plt\n",
    "from tqdm import tqdm"
   ]
  },
  {
   "cell_type": "markdown",
   "id": "50e3caa4-5a78-4e6e-b389-e6b64f6293df",
   "metadata": {},
   "source": [
    "## EDA"
   ]
  },
  {
   "cell_type": "markdown",
   "id": "f98759c5-e348-419d-8536-e4ef957ac0ef",
   "metadata": {},
   "source": [
    "### Load Data"
   ]
  },
  {
   "cell_type": "code",
   "execution_count": 105,
   "id": "f5f901e9-baf2-4ff9-a31c-d22ef0735438",
   "metadata": {},
   "outputs": [],
   "source": [
    "def preprocessing_dataset(dataset):\n",
    "    \"\"\" 처음 불러온 csv 파일을 원하는 형태의 DataFrame으로 변경 시켜줍니다.\"\"\"\n",
    "    subject_entity = []\n",
    "    object_entity = []\n",
    "    for i,j in zip(dataset['subject_entity'], dataset['object_entity']):\n",
    "        i=eval(i)['word']\n",
    "        j=eval(j)['word']\n",
    "        subject_entity.append(i)\n",
    "        object_entity.append(j)\n",
    "        \n",
    "    # subject entity : word\n",
    "    # object entity : word\n",
    "    out_dataset = pd.DataFrame({'id':dataset['id'], \n",
    "                                'sentence':dataset['sentence'],\n",
    "                                'subject_entity':subject_entity,\n",
    "                                'object_entity':object_entity,\n",
    "                                'label':dataset['label'],})\n",
    "    return out_dataset"
   ]
  },
  {
   "cell_type": "code",
   "execution_count": 106,
   "id": "72063257-661e-4a72-bfd8-86870c29dc8d",
   "metadata": {},
   "outputs": [],
   "source": [
    "def load_data(dataset_dir):\n",
    "    \"\"\" csv 파일을 경로에 맡게 불러 옵니다. \"\"\"\n",
    "    # load csv file\n",
    "    pd_dataset = pd.read_csv(dataset_dir)\n",
    "    # preprocess Dataframe\n",
    "    # extract subject and object entity from dataframe\n",
    "    dataset = preprocessing_dataset(pd_dataset)\n",
    "    return dataset"
   ]
  },
  {
   "cell_type": "code",
   "execution_count": 122,
   "id": "bdd0c778-8c45-475a-ad77-122871d4b7ca",
   "metadata": {},
   "outputs": [
    {
     "data": {
      "text/html": [
       "<div>\n",
       "<style scoped>\n",
       "    .dataframe tbody tr th:only-of-type {\n",
       "        vertical-align: middle;\n",
       "    }\n",
       "\n",
       "    .dataframe tbody tr th {\n",
       "        vertical-align: top;\n",
       "    }\n",
       "\n",
       "    .dataframe thead th {\n",
       "        text-align: right;\n",
       "    }\n",
       "</style>\n",
       "<table border=\"1\" class=\"dataframe\">\n",
       "  <thead>\n",
       "    <tr style=\"text-align: right;\">\n",
       "      <th></th>\n",
       "      <th>id</th>\n",
       "      <th>sentence</th>\n",
       "      <th>subject_entity</th>\n",
       "      <th>object_entity</th>\n",
       "      <th>label</th>\n",
       "    </tr>\n",
       "  </thead>\n",
       "  <tbody>\n",
       "    <tr>\n",
       "      <th>0</th>\n",
       "      <td>0</td>\n",
       "      <td>〈Something〉는 조지 해리슨이 쓰고 비틀즈가 1969년 앨범 《Abbey R...</td>\n",
       "      <td>비틀즈</td>\n",
       "      <td>조지 해리슨</td>\n",
       "      <td>no_relation</td>\n",
       "    </tr>\n",
       "    <tr>\n",
       "      <th>1</th>\n",
       "      <td>1</td>\n",
       "      <td>호남이 기반인 바른미래당·대안신당·민주평화당이 우여곡절 끝에 합당해 민생당(가칭)으...</td>\n",
       "      <td>민주평화당</td>\n",
       "      <td>대안신당</td>\n",
       "      <td>no_relation</td>\n",
       "    </tr>\n",
       "    <tr>\n",
       "      <th>2</th>\n",
       "      <td>2</td>\n",
       "      <td>K리그2에서 성적 1위를 달리고 있는 광주FC는 지난 26일 한국프로축구연맹으로부터...</td>\n",
       "      <td>광주FC</td>\n",
       "      <td>한국프로축구연맹</td>\n",
       "      <td>org:member_of</td>\n",
       "    </tr>\n",
       "    <tr>\n",
       "      <th>3</th>\n",
       "      <td>3</td>\n",
       "      <td>균일가 생활용품점 (주)아성다이소(대표 박정부)는 코로나19 바이러스로 어려움을 겪...</td>\n",
       "      <td>아성다이소</td>\n",
       "      <td>박정부</td>\n",
       "      <td>org:top_members/employees</td>\n",
       "    </tr>\n",
       "    <tr>\n",
       "      <th>4</th>\n",
       "      <td>4</td>\n",
       "      <td>1967년 프로 야구 드래프트 1순위로 요미우리 자이언츠에게 입단하면서 등번호는 8...</td>\n",
       "      <td>요미우리 자이언츠</td>\n",
       "      <td>1967</td>\n",
       "      <td>no_relation</td>\n",
       "    </tr>\n",
       "  </tbody>\n",
       "</table>\n",
       "</div>"
      ],
      "text/plain": [
       "   id                                           sentence subject_entity  \\\n",
       "0   0  〈Something〉는 조지 해리슨이 쓰고 비틀즈가 1969년 앨범 《Abbey R...            비틀즈   \n",
       "1   1  호남이 기반인 바른미래당·대안신당·민주평화당이 우여곡절 끝에 합당해 민생당(가칭)으...          민주평화당   \n",
       "2   2  K리그2에서 성적 1위를 달리고 있는 광주FC는 지난 26일 한국프로축구연맹으로부터...           광주FC   \n",
       "3   3  균일가 생활용품점 (주)아성다이소(대표 박정부)는 코로나19 바이러스로 어려움을 겪...          아성다이소   \n",
       "4   4  1967년 프로 야구 드래프트 1순위로 요미우리 자이언츠에게 입단하면서 등번호는 8...      요미우리 자이언츠   \n",
       "\n",
       "  object_entity                      label  \n",
       "0        조지 해리슨                no_relation  \n",
       "1          대안신당                no_relation  \n",
       "2      한국프로축구연맹              org:member_of  \n",
       "3           박정부  org:top_members/employees  \n",
       "4          1967                no_relation  "
      ]
     },
     "execution_count": 122,
     "metadata": {},
     "output_type": "execute_result"
    }
   ],
   "source": [
    "# Load DataFrame & Extractin entity\n",
    "train_df = load_data(\"../../dataset/train/train.csv\")\n",
    "train_df.head()"
   ]
  },
  {
   "cell_type": "markdown",
   "id": "afbecdf0-f040-4c08-896d-6127f51b8402",
   "metadata": {},
   "source": [
    "## Subject Kind"
   ]
  },
  {
   "cell_type": "code",
   "execution_count": 120,
   "id": "7aa2772a-08e2-4336-ae47-89dde7ae40bd",
   "metadata": {},
   "outputs": [],
   "source": [
    "train_df = pd.read_csv(\"../../dataset/train/train.csv\")"
   ]
  },
  {
   "cell_type": "code",
   "execution_count": 121,
   "id": "7cc1d63d-4a70-49e7-b389-b5a534df707a",
   "metadata": {},
   "outputs": [],
   "source": [
    "train_sub = train_df['subject_entity']\n",
    "train_obj = train_df['object_entity']"
   ]
  },
  {
   "cell_type": "code",
   "execution_count": 110,
   "id": "1d0a58e2-de92-4fb8-8de2-07e5518addf4",
   "metadata": {},
   "outputs": [],
   "source": [
    "sub_list = []\n",
    "for sub in train_sub :\n",
    "    sub_type = sub.split(',')[-1].split(':')[1][2:-2]\n",
    "    sub_list.append(sub_type)"
   ]
  },
  {
   "cell_type": "code",
   "execution_count": 111,
   "id": "1ec979b0-f6e8-4423-bfe2-bbe7ee2dc756",
   "metadata": {},
   "outputs": [],
   "source": [
    "sub_counter = collections.Counter()\n",
    "sub_counter.update(sub_list)"
   ]
  },
  {
   "cell_type": "code",
   "execution_count": 112,
   "id": "7518f7a9-6e37-4a74-ab5b-037b4546f17a",
   "metadata": {},
   "outputs": [],
   "source": [
    "obj_list = []\n",
    "for obj in train_obj :\n",
    "    obj_type = obj.split(',')[-1].split(':')[1][2:-2]\n",
    "    obj_list.append(obj_type)"
   ]
  },
  {
   "cell_type": "code",
   "execution_count": 113,
   "id": "62c408ef-a185-4a89-8273-5dc7603e8119",
   "metadata": {},
   "outputs": [],
   "source": [
    "obj_counter = collections.Counter()\n",
    "obj_counter.update(obj_list)"
   ]
  },
  {
   "cell_type": "code",
   "execution_count": 114,
   "id": "e58f00ea-bd03-425d-af69-4b96e2810c15",
   "metadata": {},
   "outputs": [],
   "source": [
    "sub_counter = dict(sub_counter)\n",
    "obj_counter = dict(obj_counter)"
   ]
  },
  {
   "cell_type": "code",
   "execution_count": 115,
   "id": "b164163b-9637-41cb-8284-f42105395f90",
   "metadata": {},
   "outputs": [
    {
     "data": {
      "image/png": "[encoded data removed]",
      "text/plain": [
       "<Figure size 720x720 with 2 Axes>"
      ]
     },
     "metadata": {},
     "output_type": "display_data"
    }
   ],
   "source": [
    "fig, axes = plt.subplots(1, 2, figsize = (10,10))\n",
    "\n",
    "axes[0].pie(list(sub_counter.values()), \n",
    "            labels=list(sub_counter.keys()), \n",
    "            autopct='%.2f%%')\n",
    "\n",
    "axes[1].pie(list(obj_counter.values()), \n",
    "            labels=list(obj_counter.keys()))\n",
    "\n",
    "plt.show()"
   ]
  },
  {
   "cell_type": "code",
   "execution_count": 123,
   "id": "32b92c5d-4ca8-4318-b5f2-0ac3c437c403",
   "metadata": {},
   "outputs": [],
   "source": [
    "train_df['subject_type'] = sub_list\n",
    "train_df['object_type'] = obj_list"
   ]
  },
  {
   "cell_type": "code",
   "execution_count": 124,
   "id": "9dfcea1f-155d-4a25-9e3f-1a2d42caa195",
   "metadata": {},
   "outputs": [],
   "source": [
    "sub_dict = {sub: i for i, sub in enumerate(sub_counter.keys())}\n",
    "obj_dict = {obj: i for i, obj in enumerate(obj_counter.keys())}"
   ]
  },
  {
   "cell_type": "code",
   "execution_count": 125,
   "id": "8db787be-85a0-4746-bcd0-4476b8bd6738",
   "metadata": {},
   "outputs": [],
   "source": [
    "train_df['subject_index'] = train_df['subject_type'].apply(lambda x : sub_dict[x])\n",
    "train_df['object_index'] = train_df['object_type'].apply(lambda x : obj_dict[x])"
   ]
  },
  {
   "cell_type": "code",
   "execution_count": 126,
   "id": "3cbd4dd8-beb0-42c5-a0ac-200c238faa77",
   "metadata": {},
   "outputs": [
    {
     "data": {
      "text/html": [
       "<div>\n",
       "<style scoped>\n",
       "    .dataframe tbody tr th:only-of-type {\n",
       "        vertical-align: middle;\n",
       "    }\n",
       "\n",
       "    .dataframe tbody tr th {\n",
       "        vertical-align: top;\n",
       "    }\n",
       "\n",
       "    .dataframe thead th {\n",
       "        text-align: right;\n",
       "    }\n",
       "</style>\n",
       "<table border=\"1\" class=\"dataframe\">\n",
       "  <thead>\n",
       "    <tr style=\"text-align: right;\">\n",
       "      <th></th>\n",
       "      <th>id</th>\n",
       "      <th>sentence</th>\n",
       "      <th>subject_entity</th>\n",
       "      <th>object_entity</th>\n",
       "      <th>label</th>\n",
       "      <th>subject_type</th>\n",
       "      <th>object_type</th>\n",
       "      <th>subject_index</th>\n",
       "      <th>object_index</th>\n",
       "    </tr>\n",
       "  </thead>\n",
       "  <tbody>\n",
       "    <tr>\n",
       "      <th>0</th>\n",
       "      <td>0</td>\n",
       "      <td>〈Something〉는 조지 해리슨이 쓰고 비틀즈가 1969년 앨범 《Abbey R...</td>\n",
       "      <td>비틀즈</td>\n",
       "      <td>조지 해리슨</td>\n",
       "      <td>no_relation</td>\n",
       "      <td>ORG</td>\n",
       "      <td>PER</td>\n",
       "      <td>0</td>\n",
       "      <td>0</td>\n",
       "    </tr>\n",
       "    <tr>\n",
       "      <th>1</th>\n",
       "      <td>1</td>\n",
       "      <td>호남이 기반인 바른미래당·대안신당·민주평화당이 우여곡절 끝에 합당해 민생당(가칭)으...</td>\n",
       "      <td>민주평화당</td>\n",
       "      <td>대안신당</td>\n",
       "      <td>no_relation</td>\n",
       "      <td>ORG</td>\n",
       "      <td>ORG</td>\n",
       "      <td>0</td>\n",
       "      <td>1</td>\n",
       "    </tr>\n",
       "    <tr>\n",
       "      <th>2</th>\n",
       "      <td>2</td>\n",
       "      <td>K리그2에서 성적 1위를 달리고 있는 광주FC는 지난 26일 한국프로축구연맹으로부터...</td>\n",
       "      <td>광주FC</td>\n",
       "      <td>한국프로축구연맹</td>\n",
       "      <td>org:member_of</td>\n",
       "      <td>ORG</td>\n",
       "      <td>ORG</td>\n",
       "      <td>0</td>\n",
       "      <td>1</td>\n",
       "    </tr>\n",
       "    <tr>\n",
       "      <th>3</th>\n",
       "      <td>3</td>\n",
       "      <td>균일가 생활용품점 (주)아성다이소(대표 박정부)는 코로나19 바이러스로 어려움을 겪...</td>\n",
       "      <td>아성다이소</td>\n",
       "      <td>박정부</td>\n",
       "      <td>org:top_members/employees</td>\n",
       "      <td>ORG</td>\n",
       "      <td>PER</td>\n",
       "      <td>0</td>\n",
       "      <td>0</td>\n",
       "    </tr>\n",
       "    <tr>\n",
       "      <th>4</th>\n",
       "      <td>4</td>\n",
       "      <td>1967년 프로 야구 드래프트 1순위로 요미우리 자이언츠에게 입단하면서 등번호는 8...</td>\n",
       "      <td>요미우리 자이언츠</td>\n",
       "      <td>1967</td>\n",
       "      <td>no_relation</td>\n",
       "      <td>ORG</td>\n",
       "      <td>DAT</td>\n",
       "      <td>0</td>\n",
       "      <td>2</td>\n",
       "    </tr>\n",
       "  </tbody>\n",
       "</table>\n",
       "</div>"
      ],
      "text/plain": [
       "   id                                           sentence subject_entity  \\\n",
       "0   0  〈Something〉는 조지 해리슨이 쓰고 비틀즈가 1969년 앨범 《Abbey R...            비틀즈   \n",
       "1   1  호남이 기반인 바른미래당·대안신당·민주평화당이 우여곡절 끝에 합당해 민생당(가칭)으...          민주평화당   \n",
       "2   2  K리그2에서 성적 1위를 달리고 있는 광주FC는 지난 26일 한국프로축구연맹으로부터...           광주FC   \n",
       "3   3  균일가 생활용품점 (주)아성다이소(대표 박정부)는 코로나19 바이러스로 어려움을 겪...          아성다이소   \n",
       "4   4  1967년 프로 야구 드래프트 1순위로 요미우리 자이언츠에게 입단하면서 등번호는 8...      요미우리 자이언츠   \n",
       "\n",
       "  object_entity                      label subject_type object_type  \\\n",
       "0        조지 해리슨                no_relation          ORG         PER   \n",
       "1          대안신당                no_relation          ORG         ORG   \n",
       "2      한국프로축구연맹              org:member_of          ORG         ORG   \n",
       "3           박정부  org:top_members/employees          ORG         PER   \n",
       "4          1967                no_relation          ORG         DAT   \n",
       "\n",
       "   subject_index  object_index  \n",
       "0              0             0  \n",
       "1              0             1  \n",
       "2              0             1  \n",
       "3              0             0  \n",
       "4              0             2  "
      ]
     },
     "execution_count": 126,
     "metadata": {},
     "output_type": "execute_result"
    }
   ],
   "source": [
    "train_df.head()"
   ]
  },
  {
   "cell_type": "code",
   "execution_count": 127,
   "id": "ce32ff9e-9670-4fcf-91f1-d011aa06d27e",
   "metadata": {},
   "outputs": [],
   "source": [
    "train_df.to_csv('../../dataset/train/train_2.csv')"
   ]
  },
  {
   "cell_type": "markdown",
   "id": "712074e4-9ae0-4bbb-98f1-146167a93d0a",
   "metadata": {},
   "source": [
    "## Class Imbalance"
   ]
  },
  {
   "cell_type": "code",
   "execution_count": 128,
   "id": "e0e02dc0-477a-4b9b-a8b6-aa903980254c",
   "metadata": {},
   "outputs": [],
   "source": [
    "label_list = list(train_df['label'].value_counts().keys())\n",
    "label_counts = list(train_df['label'].value_counts())    "
   ]
  },
  {
   "cell_type": "code",
   "execution_count": 129,
   "id": "e4d26742-91e7-41a6-a83b-8e495cbf5a9b",
   "metadata": {},
   "outputs": [
    {
     "data": {
      "image/png": "[encoded data removed]",
      "text/plain": [
       "<Figure size 432x720 with 1 Axes>"
      ]
     },
     "metadata": {
      "needs_background": "light"
     },
     "output_type": "display_data"
    }
   ],
   "source": [
    "plt.figure(figsize=(6,10))\n",
    "plt.title('Label Counts Bar Plot', fontsize=15)\n",
    "plt.barh(label_list, label_counts)\n",
    "plt.show()"
   ]
  },
  {
   "cell_type": "markdown",
   "id": "1810f6bf-1cbc-4d51-8e5c-a12fadcad574",
   "metadata": {},
   "source": [
    "## preprocessing"
   ]
  },
  {
   "cell_type": "code",
   "execution_count": 162,
   "id": "072a6a0a-1404-4365-bffc-2371c17c469c",
   "metadata": {},
   "outputs": [],
   "source": [
    "MODEL_NAME = \"klue/bert-base\"\n",
    "tokenizer = AutoTokenizer.from_pretrained(MODEL_NAME)"
   ]
  },
  {
   "cell_type": "code",
   "execution_count": 163,
   "id": "6465b571-83a5-44ee-8dbc-eadff83d4a53",
   "metadata": {},
   "outputs": [],
   "source": [
    "def preprocess_sen(sen) :\n",
    "    sen = re.sub('[^가-힣0-9a-zA-Z\\[\\]\\',.!?]' , ' ', sen)\n",
    "    sen = re.sub(' {2,}' , ' ' , sen)\n",
    "    sen = sen.strip()\n",
    "    return sen"
   ]
  },
  {
   "cell_type": "code",
   "execution_count": 164,
   "id": "381ec6d0-ca2f-49c1-8a87-6588773c43e9",
   "metadata": {},
   "outputs": [],
   "source": [
    "# extract data from dataframe\n",
    "def extract_data(dataset) :\n",
    "    entity_data = []\n",
    "    sen_data = []\n",
    "    for e01, e02, s in zip(dataset['subject_entity'], dataset['object_entity'], dataset['sentence']):\n",
    "        entity_idx = preprocess_sen(e01 + ' [SEP] ' + e02)\n",
    "        sen_idx = preprocess_sen(s)\n",
    "        entity_data.append(entity_idx)\n",
    "        sen_data.append(sen_idx)\n",
    "    \n",
    "    return entity_data, sen_data"
   ]
  },
  {
   "cell_type": "code",
   "execution_count": 133,
   "id": "85558ecf-2e10-44d5-8d24-28ce75c8e723",
   "metadata": {},
   "outputs": [],
   "source": [
    "entity_data, sen_data = extract_data(train_df)"
   ]
  },
  {
   "cell_type": "code",
   "execution_count": 134,
   "id": "fa7c45ee-9ac7-4570-9317-40625071679d",
   "metadata": {},
   "outputs": [],
   "source": [
    "re_data = [entity_data[i] + ' [SEP] ' + sen_data[i] for i in range(len(train_df))]"
   ]
  },
  {
   "cell_type": "code",
   "execution_count": 135,
   "id": "dc110375-0740-44a8-9f71-c4787d8a6fa0",
   "metadata": {},
   "outputs": [
    {
     "name": "stderr",
     "output_type": "stream",
     "text": [
      "100%|██████████| 32470/32470 [00:12<00:00, 2600.10it/s]\n"
     ]
    }
   ],
   "source": [
    "len_data = []\n",
    "\n",
    "for sen in tqdm(re_data) :\n",
    "    tok_list = tokenizer.tokenize(sen)\n",
    "    tok_len = len(tok_list)\n",
    "    len_data.append(tok_len)"
   ]
  },
  {
   "cell_type": "code",
   "execution_count": 136,
   "id": "50c4fbab-f49c-464b-86cf-f1bb664c985a",
   "metadata": {},
   "outputs": [
    {
     "data": {
      "image/png": "[encoded data removed]",
      "text/plain": [
       "<Figure size 720x360 with 1 Axes>"
      ]
     },
     "metadata": {
      "needs_background": "light"
     },
     "output_type": "display_data"
    }
   ],
   "source": [
    "plt.figure(figsize = (10,5))\n",
    "plt.title('Histogram of tokenized data', fontsize=15)\n",
    "plt.xlabel('Data Length', fontsize=12)\n",
    "plt.ylabel('The numbers of Data', fontsize=12)\n",
    "plt.hist(len_data, alpha=0.5, bins=50)\n",
    "plt.show()"
   ]
  },
  {
   "cell_type": "code",
   "execution_count": 137,
   "id": "1a60e5c6-fc11-4954-8268-77f1bcda7960",
   "metadata": {},
   "outputs": [],
   "source": [
    "def get_percent(data_len, thresold) :\n",
    "    count = 0\n",
    "    for idx in data_len :\n",
    "        if idx < thresold :\n",
    "            count += 1\n",
    "            \n",
    "    count /= len(data_len)\n",
    "    \n",
    "    print('The percent of Data which length is smaller then (%d) : %.3f' %(thresold, count))"
   ]
  },
  {
   "cell_type": "code",
   "execution_count": 138,
   "id": "5ea4aed4-fa49-4db0-96b7-bb4f004c2a4d",
   "metadata": {},
   "outputs": [
    {
     "name": "stdout",
     "output_type": "stream",
     "text": [
      "The percent of Data which length is smaller then (100) : 0.945\n"
     ]
    }
   ],
   "source": [
    "get_percent(len_data, 100)"
   ]
  },
  {
   "cell_type": "markdown",
   "id": "a27738b2-6562-4714-ac83-b98cf332337d",
   "metadata": {},
   "source": [
    "## Mecab"
   ]
  },
  {
   "cell_type": "code",
   "execution_count": 139,
   "id": "3a26971e-2c6b-40e4-a9af-50a4fc11427b",
   "metadata": {},
   "outputs": [],
   "source": [
    "from konlpy.tag import Mecab"
   ]
  },
  {
   "cell_type": "code",
   "execution_count": 140,
   "id": "1006ac7f-fae7-494b-8751-23751161fce0",
   "metadata": {},
   "outputs": [],
   "source": [
    "mecab = Mecab()"
   ]
  },
  {
   "cell_type": "code",
   "execution_count": 141,
   "id": "6ed8db74-04d7-4e60-9748-7bb99ee91d1f",
   "metadata": {},
   "outputs": [],
   "source": [
    "train_sub = list(train_df['subject_entity'])\n",
    "train_obj = list(train_df['object_entity'])"
   ]
  },
  {
   "cell_type": "markdown",
   "id": "4587c44e-5bd7-4c51-8dfd-a1830625e648",
   "metadata": {},
   "source": [
    "### Subject"
   ]
  },
  {
   "cell_type": "code",
   "execution_count": 142,
   "id": "3b653f12-8793-47dd-8166-1ce504ec4788",
   "metadata": {},
   "outputs": [
    {
     "name": "stderr",
     "output_type": "stream",
     "text": [
      "100%|██████████| 32470/32470 [00:00<00:00, 67771.32it/s]\n"
     ]
    }
   ],
   "source": [
    "pos_sub = []\n",
    "for sub in tqdm(train_sub) :\n",
    "    pos_item = mecab.pos(sub)[0]\n",
    "    pos_sub.append(pos_item[1])"
   ]
  },
  {
   "cell_type": "code",
   "execution_count": 143,
   "id": "2c2dc9dc-35ce-4ca5-9fb8-4d7393a71410",
   "metadata": {},
   "outputs": [],
   "source": [
    "counter_sub = collections.Counter()\n",
    "counter_sub.update(pos_sub)\n",
    "counter_sub = dict(counter_sub)"
   ]
  },
  {
   "cell_type": "code",
   "execution_count": 144,
   "id": "00c63190-aac0-4758-86b8-c5183e2c76e4",
   "metadata": {},
   "outputs": [],
   "source": [
    "sub_list = list(counter_sub.keys())\n",
    "sub_counts = list(counter_sub.values())"
   ]
  },
  {
   "cell_type": "markdown",
   "id": "4e3143b3-45cd-4152-b125-904aa3c337d1",
   "metadata": {},
   "source": [
    "### Object"
   ]
  },
  {
   "cell_type": "code",
   "execution_count": 145,
   "id": "72afba88-ea85-4884-abca-6bcd171b3b7a",
   "metadata": {},
   "outputs": [
    {
     "name": "stderr",
     "output_type": "stream",
     "text": [
      "100%|██████████| 32470/32470 [00:00<00:00, 79470.12it/s]\n"
     ]
    }
   ],
   "source": [
    "pos_obj = []\n",
    "for obj in tqdm(train_obj) :\n",
    "    pos_item = mecab.pos(obj)[0]\n",
    "    pos_obj.append(pos_item[1])"
   ]
  },
  {
   "cell_type": "code",
   "execution_count": 146,
   "id": "2b04acc1-525f-4d93-9224-11e51c87ab97",
   "metadata": {},
   "outputs": [],
   "source": [
    "counter_obj = collections.Counter()\n",
    "counter_obj.update(pos_obj)\n",
    "counter_obj = dict(counter_obj)"
   ]
  },
  {
   "cell_type": "code",
   "execution_count": 147,
   "id": "c1ee4bcf-afce-40d7-8d09-914a57be6168",
   "metadata": {},
   "outputs": [],
   "source": [
    "obj_list = list(counter_obj.keys())\n",
    "obj_counts = list(counter_obj.values())"
   ]
  },
  {
   "cell_type": "code",
   "execution_count": 148,
   "id": "ad942bcf-b382-4fc0-8b2b-28ea95f39ce3",
   "metadata": {},
   "outputs": [
    {
     "data": {
      "image/png": "[encoded data removed]",
      "text/plain": [
       "<Figure size 1440x720 with 2 Axes>"
      ]
     },
     "metadata": {
      "needs_background": "light"
     },
     "output_type": "display_data"
    }
   ],
   "source": [
    "fig, axes = plt.subplots(1, 2, figsize=(20,10))\n",
    "axes[0].set_title('Subject Pos Counts Bar Plot', fontsize=15)\n",
    "axes[0].barh(sub_list, sub_counts)\n",
    "axes[1].set_title('Object Pos Counts Bar Plot', fontsize=15)\n",
    "axes[1].barh(obj_list, obj_counts)\n",
    "plt.show()"
   ]
  },
  {
   "cell_type": "markdown",
   "id": "f6d822e4-f917-40ab-adbf-1cb7b590e067",
   "metadata": {},
   "source": [
    "### UNK Token"
   ]
  },
  {
   "cell_type": "code",
   "execution_count": 149,
   "id": "d9697f91-feaa-4cf6-ae44-ba8cb78e49f5",
   "metadata": {},
   "outputs": [
    {
     "name": "stderr",
     "output_type": "stream",
     "text": [
      "100%|██████████| 32470/32470 [00:02<00:00, 12840.40it/s]\n"
     ]
    }
   ],
   "source": [
    "unk_idx = set()\n",
    "unk_sub = []\n",
    "\n",
    "for i, sub in enumerate(tqdm(train_sub)) :\n",
    "    idx_list = tokenizer.encode(sub)\n",
    "    if 1 in idx_list :\n",
    "        unk_sub.append(sub.strip())\n",
    "        unk_idx.add(i)"
   ]
  },
  {
   "cell_type": "code",
   "execution_count": 150,
   "id": "d0eeacc5-3014-4f0a-b664-1de71383246f",
   "metadata": {},
   "outputs": [
    {
     "name": "stdout",
     "output_type": "stream",
     "text": [
      "The number of subject which has UNK : 223\n"
     ]
    }
   ],
   "source": [
    "print('The number of subject which has UNK : %d' %len(unk_sub))"
   ]
  },
  {
   "cell_type": "code",
   "execution_count": 151,
   "id": "6564c48a-90a0-4f5e-8a07-4e101ba403d7",
   "metadata": {},
   "outputs": [
    {
     "name": "stderr",
     "output_type": "stream",
     "text": [
      "100%|██████████| 32470/32470 [00:02<00:00, 13035.54it/s]\n"
     ]
    }
   ],
   "source": [
    "unk_obj = []\n",
    "\n",
    "for i, obj in enumerate(tqdm(train_obj)) :\n",
    "    idx_list = tokenizer.encode(obj)\n",
    "    if 1 in idx_list :\n",
    "        unk_obj.append(obj.strip())\n",
    "        unk_idx.add(i)"
   ]
  },
  {
   "cell_type": "code",
   "execution_count": 152,
   "id": "865f3e39-9056-4de6-b205-9740a4fd6a8e",
   "metadata": {},
   "outputs": [
    {
     "name": "stdout",
     "output_type": "stream",
     "text": [
      "The number of object which has UNK : 282\n"
     ]
    }
   ],
   "source": [
    "print('The number of object which has UNK : %d' %len(unk_obj))"
   ]
  },
  {
   "cell_type": "code",
   "execution_count": 153,
   "id": "cbfe5425-7876-411e-84a0-2e02d91f758d",
   "metadata": {},
   "outputs": [
    {
     "name": "stdout",
     "output_type": "stream",
     "text": [
      "Size of Data which has UNK Token(subject & object) : 502\n"
     ]
    }
   ],
   "source": [
    "print('Size of Data which has UNK Token(subject & object) : %d' %len(unk_idx))"
   ]
  },
  {
   "cell_type": "code",
   "execution_count": 154,
   "id": "4894904f-eec7-4930-bcc1-49e710be3cb4",
   "metadata": {},
   "outputs": [],
   "source": [
    "unk_idx = sorted(list(unk_idx))\n",
    "unk_df = train_df.iloc[unk_idx][['subject_entity', 'object_entity']]"
   ]
  },
  {
   "cell_type": "code",
   "execution_count": 155,
   "id": "94f306c6-6914-40c6-bae4-b58757d5573e",
   "metadata": {},
   "outputs": [
    {
     "data": {
      "text/html": [
       "<div>\n",
       "<style scoped>\n",
       "    .dataframe tbody tr th:only-of-type {\n",
       "        vertical-align: middle;\n",
       "    }\n",
       "\n",
       "    .dataframe tbody tr th {\n",
       "        vertical-align: top;\n",
       "    }\n",
       "\n",
       "    .dataframe thead th {\n",
       "        text-align: right;\n",
       "    }\n",
       "</style>\n",
       "<table border=\"1\" class=\"dataframe\">\n",
       "  <thead>\n",
       "    <tr style=\"text-align: right;\">\n",
       "      <th></th>\n",
       "      <th>subject_entity</th>\n",
       "      <th>object_entity</th>\n",
       "    </tr>\n",
       "  </thead>\n",
       "  <tbody>\n",
       "    <tr>\n",
       "      <th>21</th>\n",
       "      <td>스티브 바라캇</td>\n",
       "      <td>Steve Barakatt</td>\n",
       "    </tr>\n",
       "    <tr>\n",
       "      <th>191</th>\n",
       "      <td>쇼니 씨</td>\n",
       "      <td>少弐氏</td>\n",
       "    </tr>\n",
       "    <tr>\n",
       "      <th>311</th>\n",
       "      <td>카게야마 슌</td>\n",
       "      <td>가면라이더</td>\n",
       "    </tr>\n",
       "    <tr>\n",
       "      <th>358</th>\n",
       "      <td>리셴녠</td>\n",
       "      <td>1909년 6월 23일</td>\n",
       "    </tr>\n",
       "    <tr>\n",
       "      <th>374</th>\n",
       "      <td>다마키 고지</td>\n",
       "      <td>玉置浩二</td>\n",
       "    </tr>\n",
       "    <tr>\n",
       "      <th>...</th>\n",
       "      <td>...</td>\n",
       "      <td>...</td>\n",
       "    </tr>\n",
       "    <tr>\n",
       "      <th>32071</th>\n",
       "      <td>데일리언 앳킨슨</td>\n",
       "      <td>공격수</td>\n",
       "    </tr>\n",
       "    <tr>\n",
       "      <th>32131</th>\n",
       "      <td>김헌창</td>\n",
       "      <td>웅진(熊津)</td>\n",
       "    </tr>\n",
       "    <tr>\n",
       "      <th>32216</th>\n",
       "      <td>왕원희</td>\n",
       "      <td>문명황후(文明皇后)</td>\n",
       "    </tr>\n",
       "    <tr>\n",
       "      <th>32303</th>\n",
       "      <td>미치시타 다이키</td>\n",
       "      <td>홋카이도 제1구</td>\n",
       "    </tr>\n",
       "    <tr>\n",
       "      <th>32411</th>\n",
       "      <td>가톨릭평화방송</td>\n",
       "      <td>가톨릭平和放送</td>\n",
       "    </tr>\n",
       "  </tbody>\n",
       "</table>\n",
       "<p>502 rows × 2 columns</p>\n",
       "</div>"
      ],
      "text/plain": [
       "      subject_entity   object_entity\n",
       "21           스티브 바라캇  Steve Barakatt\n",
       "191             쇼니 씨             少弐氏\n",
       "311           카게야마 슌           가면라이더\n",
       "358              리셴녠    1909년 6월 23일\n",
       "374           다마키 고지            玉置浩二\n",
       "...              ...             ...\n",
       "32071       데일리언 앳킨슨             공격수\n",
       "32131            김헌창          웅진(熊津)\n",
       "32216            왕원희      문명황후(文明皇后)\n",
       "32303       미치시타 다이키        홋카이도 제1구\n",
       "32411        가톨릭평화방송         가톨릭平和放送\n",
       "\n",
       "[502 rows x 2 columns]"
      ]
     },
     "execution_count": 155,
     "metadata": {},
     "output_type": "execute_result"
    }
   ],
   "source": [
    "unk_df"
   ]
  },
  {
   "cell_type": "markdown",
   "id": "802c0e40-fa0f-44a4-8070-0baa6cb49f22",
   "metadata": {},
   "source": [
    "## Special Characters"
   ]
  },
  {
   "cell_type": "code",
   "execution_count": 156,
   "id": "b93093bf-f3c3-49db-a8a6-14961002744b",
   "metadata": {},
   "outputs": [],
   "source": [
    "unk_list = list(unk_sub + unk_obj)"
   ]
  },
  {
   "cell_type": "code",
   "execution_count": 157,
   "id": "a84f7ab5-bdc6-4d33-b12e-580f97cea34c",
   "metadata": {},
   "outputs": [],
   "source": [
    "sep_count = 0\n",
    "sep_list = []\n",
    "\n",
    "for unk in unk_list :\n",
    "    if re.search('[가-힣0-9a-zA-Z]', unk) == None :\n",
    "        sep_list.append(unk)\n",
    "        sep_count += 1"
   ]
  },
  {
   "cell_type": "code",
   "execution_count": 158,
   "id": "8310ec88-e9b4-4fbe-952d-1968f3a34766",
   "metadata": {},
   "outputs": [
    {
     "name": "stdout",
     "output_type": "stream",
     "text": [
      "Entity which has only Sepcial Characters : 88\n"
     ]
    }
   ],
   "source": [
    "print('Entity which has only Sepcial Characters : %d' %sep_count)"
   ]
  },
  {
   "cell_type": "code",
   "execution_count": 159,
   "id": "aabb7362-520d-49c9-9b6d-e6f254d82e33",
   "metadata": {},
   "outputs": [
    {
     "name": "stdout",
     "output_type": "stream",
     "text": [
      "Sepcial Entity \n",
      "\n",
      "['金基昶', '少弐氏', '玉置浩二', '後北条氏', '伊達氏', 'みゆき', '國稅廳', '株式会社アニメーションドゥウ', '東出昌大', '郭在驥']\n"
     ]
    }
   ],
   "source": [
    "print('Sepcial Entity \\n')\n",
    "\n",
    "print(sep_list[:10])"
   ]
  },
  {
   "cell_type": "markdown",
   "id": "36db02ce-ab38-4157-b48e-bd79aea6b8c2",
   "metadata": {},
   "source": [
    "### 방향\n",
    "    1. 한자 -> [CHN] 토큰으로 변환\n",
    "    2. tokenizer -> padding X, truncating 으로 진행, Max Length = 100\n",
    "    3. 길이가 작은 문장은 RTT를 이용해 길이를 최대한 100으로 맞춰준다"
   ]
  },
  {
   "cell_type": "code",
   "execution_count": null,
   "id": "a3659c85-c73c-4f7b-81ea-18ff77be3d9b",
   "metadata": {},
   "outputs": [],
   "source": []
  }
 ],
 "metadata": {
  "kernelspec": {
   "display_name": "Python 3 (ipykernel)",
   "language": "python",
   "name": "python3"
  },
  "language_info": {
   "codemirror_mode": {
    "name": "ipython",
    "version": 3
   },
   "file_extension": ".py",
   "mimetype": "text/x-python",
   "name": "python",
   "nbconvert_exporter": "python",
   "pygments_lexer": "ipython3",
   "version": "3.8.5"
  }
 },
 "nbformat": 4,
 "nbformat_minor": 5
}
